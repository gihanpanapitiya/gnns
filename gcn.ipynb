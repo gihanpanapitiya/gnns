{
 "cells": [
  {
   "cell_type": "code",
   "execution_count": 2,
   "id": "b6352d74-08f4-489b-bafb-03116d52d26f",
   "metadata": {},
   "outputs": [],
   "source": [
    "import torch.nn as nn\n",
    "import torch\n",
    "from torch_geometric.utils import dense_to_sparse\n",
    "from torch.nn import Linear, Parameter\n",
    "from torch_geometric.nn import MessagePassing\n",
    "from torch_geometric.utils import add_self_loops, degree"
   ]
  },
  {
   "cell_type": "markdown",
   "id": "1e8dbb55-4380-4a6a-9c08-e76eeada4f8a",
   "metadata": {},
   "source": [
    "Let's build a graph convolutional neural network. I will use the definition of a GCN layer given in the torch_geometric dicumentation."
   ]
  },
  {
   "cell_type": "markdown",
   "id": "815a6ad3-c564-4537-a521-45ded2ad7f06",
   "metadata": {},
   "source": [
    "$x_{i}^{(k)} = \\sum_{j \\in N(i) \\bigcup i} \\frac{1}{\\sqrt(deg(i))\\cdot\\sqrt(deg(j)) } \\cdot (W^{T} \\cdot x_{j}^{(k-1)})+b$"
   ]
  },
  {
   "cell_type": "markdown",
   "id": "433671a0-a6ae-4739-a675-cde1b7f8c5e9",
   "metadata": {},
   "source": [
    "Here k is used to denote the graph convolution layer. This can be identified as a pass through the graph convolution operation or a single iteration of using the above equation on the current set of node (and/or edge) features."
   ]
  },
  {
   "cell_type": "markdown",
   "id": "15a8a1e2-94b2-4ccd-be55-464b246ab2ab",
   "metadata": {},
   "source": [
    "Let's understand what happens here. In this equation, we update the the node features of node $i$. The subscript of the summation symbol indicates that we consider the neighbors of node $i$ and node $i$ itself. For a given neighbor $j$, we transform it's node feature $x_{j}$ using the weight matrix $W$. We divide this value by the product of the square root of the degrees of nodes $i$ and $j$.\n",
    "\n",
    "We do this operation for all the neighboring nodes of $i$."
   ]
  },
  {
   "cell_type": "markdown",
   "id": "043100bc-338e-4938-b0ef-e19f6769c995",
   "metadata": {},
   "source": [
    "Then we collect all these transformed node features of the neighbhring nodes corresponding to node $i$ and add them all together.\n",
    "Optionally, we can add a bias term $b$ to this summation. This summation becomes the new node feature of node $i$, $x_{i}^{k}$ at iteration $k$."
   ]
  },
  {
   "cell_type": "markdown",
   "id": "bcba0f05-3bc7-4738-9716-a1603df4ab23",
   "metadata": {},
   "source": [
    "![title](assets/gcn1.png)"
   ]
  },
  {
   "cell_type": "markdown",
   "id": "cedabe6e-f9a0-4e68-ba45-7103b82ea85a",
   "metadata": {},
   "source": [
    "\n",
    "Now let's build graph convolution nework using torch_geometric. This implementation is based on the code segment provided in their documentation. I did some modifications to make it easy to compare with another implementaion. Specifically I removed `self.lin.reset_parameters()` and added my own weight matrx $W$,\n",
    "and set the bias values to zero."
   ]
  },
  {
   "cell_type": "code",
   "execution_count": 275,
   "id": "82e622d8-17e1-4996-9e7b-6c6a6a19a665",
   "metadata": {},
   "outputs": [],
   "source": [
    "class GCNConv(MessagePassing):\n",
    "    def __init__(self, in_channels, out_channels, weight_data):\n",
    "        super().__init__(aggr='add') \n",
    "        self.lin = Linear(in_channels, out_channels, bias=True)\n",
    "\n",
    "\n",
    "        self.lin.weight.data = weight_data\n",
    "        self.lin.bias.data = torch.Tensor([0., 0.])\n",
    "\n",
    "        self.b = Parameter(torch.empty(out_channels))\n",
    "        self.b.data.zero_()\n",
    "\n",
    "\n",
    "    def forward(self, x, edge_index):\n",
    "\n",
    "        x = self.lin(x)\n",
    "\n",
    "        row, col = edge_index\n",
    "        deg = degree(col, x.size(1), dtype=x.dtype)\n",
    "\n",
    "        deg_inv_sqrt = deg**(-0.5)\n",
    "\n",
    "        # if the inverse square root is infinity, that value is set to zero.\n",
    "        deg_inv_sqrt[deg_inv_sqrt == float('inf')] = 0\n",
    "        norm = deg_inv_sqrt[row] * deg_inv_sqrt[col]\n",
    "        print(norm)\n",
    "\n",
    "        # propagate is a method implemented in MessagePassing. This is where \n",
    "        # massage passing takes place. you have to send the edge indices and the node features.\n",
    "        # additionally, you can send other optional values to create your message from node j to node i.\n",
    "        out = self.propagate(edge_index, x=x, norm=norm)\n",
    "        out = out + self.b\n",
    "\n",
    "        return out\n",
    "\n",
    "    def message(self, x_j, norm):\n",
    "        # this is wehere we define the message from node j to node i.\n",
    "        print(x_j)\n",
    "        return norm.view(-1, 1) * x_j"
   ]
  },
  {
   "cell_type": "markdown",
   "id": "977c9bee-ade3-4f6e-96dd-ef83905a4e57",
   "metadata": {},
   "source": [
    "#### Define the node and edge features"
   ]
  },
  {
   "cell_type": "code",
   "execution_count": 276,
   "id": "0cb3ec10-5056-4aca-8a7d-fd305fbb6bd2",
   "metadata": {},
   "outputs": [],
   "source": [
    "# node_feats = torch.arange(8, dtype=torch.float32).view(1, 4, 2)\n",
    "node_feats = torch.tensor([[[0., 1.],\n",
    "         [2., 3.],\n",
    "         [4., 5.],\n",
    "         [6., 7.]]], dtype=torch.float32)\n",
    "adj_matrix = torch.Tensor([[[1, 1, 0, 0],\n",
    "                            [1, 1, 1, 1],\n",
    "                            [0, 1, 1, 1],\n",
    "                            [0, 1, 1, 1]]])"
   ]
  },
  {
   "cell_type": "code",
   "execution_count": 277,
   "id": "064abcc1-235b-470c-9b4a-2528f9f7ab1e",
   "metadata": {},
   "outputs": [],
   "source": [
    "weight_data = torch.Tensor([[1., 0.], [0., 1.]])"
   ]
  },
  {
   "cell_type": "code",
   "execution_count": 279,
   "id": "1b56ce07-7ce1-4ca9-8c3d-4f3eb27376f2",
   "metadata": {},
   "outputs": [],
   "source": [
    "edge_index, _ = dense_to_sparse(adj_matrix)"
   ]
  },
  {
   "cell_type": "code",
   "execution_count": 280,
   "id": "094e4246-713c-4e60-ba1f-c4502b603c2d",
   "metadata": {},
   "outputs": [
    {
     "data": {
      "text/plain": [
       "tensor([[0, 0, 1, 1, 1, 1, 2, 2, 2, 3, 3, 3],\n",
       "        [0, 1, 0, 1, 2, 3, 1, 2, 3, 1, 2, 3]])"
      ]
     },
     "execution_count": 280,
     "metadata": {},
     "output_type": "execute_result"
    }
   ],
   "source": [
    "edge_index"
   ]
  },
  {
   "cell_type": "code",
   "execution_count": 281,
   "id": "c1aabf7c-58f1-46cd-ac46-f15132e61623",
   "metadata": {},
   "outputs": [],
   "source": [
    "conv = GCNConv(2, 2, weight_data)"
   ]
  },
  {
   "cell_type": "code",
   "execution_count": 283,
   "id": "33b4216c-88f2-44e0-9091-663f94f968e2",
   "metadata": {},
   "outputs": [
    {
     "name": "stdout",
     "output_type": "stream",
     "text": [
      "tensor([0.5000, 0.3536, 0.3536, 0.2500, 0.2887, 0.2887, 0.2887, 0.3333, 0.3333,\n",
      "        0.2887, 0.3333, 0.3333])\n",
      "tensor([[[0., 1.],\n",
      "         [0., 1.],\n",
      "         [2., 3.],\n",
      "         [2., 3.],\n",
      "         [2., 3.],\n",
      "         [2., 3.],\n",
      "         [4., 5.],\n",
      "         [4., 5.],\n",
      "         [4., 5.],\n",
      "         [6., 7.],\n",
      "         [6., 7.],\n",
      "         [6., 7.]]], grad_fn=<IndexSelectBackward0>)\n"
     ]
    },
    {
     "data": {
      "text/plain": [
       "tensor([[[0.7071, 1.5607],\n",
       "         [3.3868, 4.5677],\n",
       "         [3.9107, 4.8660],\n",
       "         [3.9107, 4.8660]]], grad_fn=<AddBackward0>)"
      ]
     },
     "execution_count": 283,
     "metadata": {},
     "output_type": "execute_result"
    }
   ],
   "source": [
    "conv(node_feats, edge_index)"
   ]
  }
 ],
 "metadata": {
  "kernelspec": {
   "display_name": "p11",
   "language": "python",
   "name": "p11"
  },
  "language_info": {
   "codemirror_mode": {
    "name": "ipython",
    "version": 3
   },
   "file_extension": ".py",
   "mimetype": "text/x-python",
   "name": "python",
   "nbconvert_exporter": "python",
   "pygments_lexer": "ipython3",
   "version": "3.11.9"
  }
 },
 "nbformat": 4,
 "nbformat_minor": 5
}
